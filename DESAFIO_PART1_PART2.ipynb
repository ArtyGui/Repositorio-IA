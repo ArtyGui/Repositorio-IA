{
  "nbformat": 4,
  "nbformat_minor": 0,
  "metadata": {
    "colab": {
      "name": "DESAFIO_PART1_PART2.ipynb",
      "provenance": [],
      "authorship_tag": "ABX9TyOA6bF6pj9arsvalDht4+vh",
      "include_colab_link": true
    },
    "kernelspec": {
      "name": "python3",
      "display_name": "Python 3"
    },
    "language_info": {
      "name": "python"
    }
  },
  "cells": [
    {
      "cell_type": "markdown",
      "metadata": {
        "id": "view-in-github",
        "colab_type": "text"
      },
      "source": [
        "<a href=\"https://colab.research.google.com/github/ArtyGui/Repositorio-IA/blob/main/DESAFIO_PART1_PART2.ipynb\" target=\"_parent\"><img src=\"https://colab.research.google.com/assets/colab-badge.svg\" alt=\"Open In Colab\"/></a>"
      ]
    },
    {
      "cell_type": "code",
      "execution_count": null,
      "metadata": {
        "id": "CDpdsaHnsyuN"
      },
      "outputs": [],
      "source": [
        "# Valores do ultimo ano\n",
        "# Loja Hashtag&Drink\n",
        "\n",
        "venda_coca = float(input('Digite o valor das vendas da Coca-Cola:\\n R$:'))\n",
        "venda_pepsi = float(input('Digite o valor das vendas da Pepsi:\\n R$:'))\n",
        "\n",
        "preco_coca = float(input('Digite o preço que a Coca-Cola é vendida:\\n R$:'))\n",
        "preco_pepsi = float(input('Digite o preço que a Pepsi é vendida:\\n R$:'))\n",
        "\n",
        "custo_loja = float(input('Informe o custo da loja:\\n R$:'))\n",
        "\n",
        "faturamento_pepsi = venda_pepsi * preco_pepsi\n",
        "faturamento_coca = venda_coca * preco_coca\n",
        "faturamento_total = faturamento_pepsi + faturamento_coca\n",
        "\n",
        "lucro_loja = (faturamento_pepsi + faturamento_coca ) - custo_loja\n",
        "margem = lucro_loja / faturamento_total\n",
        "\n",
        "if (faturamento_pepsi < 2500) : \n",
        "  print(f'O Faturamento da Pepsi foi de R$:{faturamento_pepsi:.2f} logo foi Horrível\\n')\n",
        "else:\n",
        "  print(f'O Faturamento da Pepsi foi de R$:{faturamento_pepsi:.2f} logo foi Ótimo\\n')\n",
        "\n",
        "if (faturamento_coca < 2500) : \n",
        "  print(f'O Faturamento da Coca-Cola foi de R$:{faturamento_coca:.2f} logo foi Horrível\\n')\n",
        "else:\n",
        "  print(f'O Faturamento da Coca-Cola foi de R$:{faturamento_coca:.2f} logo foi Ótimo\\n')\n",
        "\n",
        "if (lucro_loja < custo_loja ) :\n",
        "  print('O lucro da loja foi negativo\\n')\n",
        "else:\n",
        "  print('O lucro da loja foi positivo\\n')\n",
        "\n",
        "print(f'A porcentagem da Loja foi de {margem:.2f}%')"
      ]
    },
    {
      "cell_type": "code",
      "source": [
        "# Empresa Hashtag&Drink\n",
        "\"\"\"\n",
        "Crie um programa de consulta de bebida que, dado um código qualquer, identifique se a bebida é alcoólica.\n",
        "O programa deve responder True para bebidas alcoólicas e False para bebidas não alcoólicas.\n",
        "Para inserir um código, use um input.\n",
        "\"\"\"\n",
        "loop = True\n",
        "while loop:\n",
        "    code = input('Digite o código da bebida : \\n').upper()\n",
        "    if (code[:3]) == 'BAC':\n",
        "        print('Essa é uma bebida alcoólica')\n",
        "    else:\n",
        "        print('Essa não é uma bebida alcoólica')\n",
        "    parada = input('Você deseja parar? Digite S ou N: ').upper()\n",
        "    if parada == 'S':\n",
        "        loop = False\n"
      ],
      "metadata": {
        "id": "3Iz4-XZMs0Ks"
      },
      "execution_count": null,
      "outputs": []
    }
  ]
}