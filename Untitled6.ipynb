{
  "nbformat": 4,
  "nbformat_minor": 0,
  "metadata": {
    "colab": {
      "name": "Untitled6.ipynb",
      "provenance": [],
      "authorship_tag": "ABX9TyPGdfwO0uWmwei59eFdF+ub",
      "include_colab_link": true
    },
    "kernelspec": {
      "name": "python3",
      "display_name": "Python 3"
    },
    "language_info": {
      "name": "python"
    }
  },
  "cells": [
    {
      "cell_type": "markdown",
      "metadata": {
        "id": "view-in-github",
        "colab_type": "text"
      },
      "source": [
        "<a href=\"https://colab.research.google.com/github/ArtyGui/Repositorio-IA/blob/main/Untitled6.ipynb\" target=\"_parent\"><img src=\"https://colab.research.google.com/assets/colab-badge.svg\" alt=\"Open In Colab\"/></a>"
      ]
    },
    {
      "cell_type": "code",
      "execution_count": null,
      "metadata": {
        "id": "VKX3EE6bXSSL"
      },
      "outputs": [],
      "source": [
        "# empresa Things\n",
        "\n",
        "meta = float(input('Informe a meta do mês:\\n'))\n",
        "qtd_vend = float(input('Informe a quantidade de vendas: \\n'))\n",
        "\n",
        "if(qtd_vend < meta):\n",
        "     print(f'A meta de R$:{meta} não foi alcançada, pois a quantidade de vendas foi abaixo')\n",
        "else: \n",
        "  print(f'A meta de R${meta} foi alcançada, Com a quantidade de vendas de R$:{qtd_vend}') "
      ]
    }
  ]
}