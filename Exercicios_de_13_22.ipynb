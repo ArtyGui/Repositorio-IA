{
  "nbformat": 4,
  "nbformat_minor": 0,
  "metadata": {
    "colab": {
      "name": "Exercicios_de_13_22.ipynb",
      "provenance": [],
      "authorship_tag": "ABX9TyOChcoxV0U6Ut7qzDWC37Mb",
      "include_colab_link": true
    },
    "kernelspec": {
      "name": "python3",
      "display_name": "Python 3"
    },
    "language_info": {
      "name": "python"
    }
  },
  "cells": [
    {
      "cell_type": "markdown",
      "metadata": {
        "id": "view-in-github",
        "colab_type": "text"
      },
      "source": [
        "<a href=\"https://colab.research.google.com/github/ArtyGui/Repositorio-IA/blob/main/Exercicios_de_13_22.ipynb\" target=\"_parent\"><img src=\"https://colab.research.google.com/assets/colab-badge.svg\" alt=\"Open In Colab\"/></a>"
      ]
    },
    {
      "cell_type": "code",
      "execution_count": 1,
      "metadata": {
        "id": "JS4E-ovhHuYl",
        "colab": {
          "base_uri": "https://localhost:8080/"
        },
        "outputId": "f44ce20f-0bf0-44b9-8052-0e9c79439c00"
      },
      "outputs": [
        {
          "output_type": "stream",
          "name": "stdout",
          "text": [
            "Informe a distância total percorrida:\n",
            "500\n",
            "Informe o consumo de combustível total usado:\n",
            "25\n",
            "O consumo médio do automóvel foi: 20.0km/L\n"
          ]
        }
      ],
      "source": [
        "#Exercicio-5.13\n",
        "# O programa irá determinar o consumo médio de um automóvel sendo fornecida a distância total percorrida pelo automóvel e o total de combustível gasto.\n",
        "\n",
        "dist = float(input('Informe a distância total percorrida:\\n'))   # Distância percorrida\n",
        "comb = float(input('Informe o consumo de combustível total usado:\\n'))\n",
        "\n",
        "consumo = dist / comb\n",
        "\n",
        "print(f'O consumo médio do automóvel foi: {consumo}km/L')"
      ]
    },
    {
      "cell_type": "code",
      "source": [
        "#Exercicio-5.14\n",
        "# O programa irá ler o nome do vendedor e seu salário fixo junto com o total\n",
        "# de vendas efetuadas no mês e com o acrescimo de 15%\n",
        "\n",
        "nome = str(input('Informe seu nome:\\n'))\n",
        "salario = float(input('Informe o seu salário fixo:\\n'))\n",
        "vendas = float(input('Informe o total de vendas no mês:\\n'))\n",
        "\n",
        "salariof = salario + (vendas * 15/100)\n",
        "\n",
        "print(f'O seu nome é: {nome}, o seu salário fixo é {salario} reais, junto com 15% de comissão de suas vendas, seu salário no final do mês é de: {salariof} reais ')"
      ],
      "metadata": {
        "id": "Pv6WXmyONqiE"
      },
      "execution_count": null,
      "outputs": []
    },
    {
      "cell_type": "code",
      "source": [
        "#Exercício 5.15\n",
        "# O programa irá ler o nome do aluno e receberá 3 notas fazendo com que saia a média\n",
        "\n",
        "nome = str(input('Informe seu nome:\\n'))\n",
        "nota1 = float(input('Informe a primeira nota da prova:\\n'))\n",
        "nota2 = float(input('Informe a segunda nota da prova:\\n'))\n",
        "nota3 = float(input('Informe a terceira nota da prova:\\n'))\n",
        "\n",
        "media = (nota1 + nota2 + nota3)/3\n",
        "\n",
        "print(f'O aluno {nome} está com a média: {media:.2f}')"
      ],
      "metadata": {
        "id": "n7l3rFuyNrZa"
      },
      "execution_count": null,
      "outputs": []
    },
    {
      "cell_type": "code",
      "source": [
        "#Exercício 5.16\n",
        "\n",
        "a = float(input('Informe um número para A:\\n'))\n",
        "b = float(input('Informe um número para B:\\n'))\n",
        "\n",
        "print(f'O valor de A é {a}. O valor de B é {b}')\n",
        "\n",
        "temp = a\n",
        "a = b\n",
        "b = temp\n",
        "\n",
        "print(f'O valor de A agora é {a}. O valor de B agora é {b}.')"
      ],
      "metadata": {
        "id": "dA1wkApiNuGM"
      },
      "execution_count": null,
      "outputs": []
    },
    {
      "cell_type": "code",
      "source": [
        "# Exercício 5.17\n",
        "\n",
        "c = float(input('Digite a temperatura em Celsius:\\n'))\n",
        "f = F=(9*c+160) / 5\n",
        "\n",
        "print(f'A temperatura em Celsius {c} agora em Fahrenheit é {f}')"
      ],
      "metadata": {
        "id": "8oQVgi67NwsI"
      },
      "execution_count": null,
      "outputs": []
    },
    {
      "cell_type": "code",
      "source": [
        "# Exercício 5.18\n",
        "\n",
        "real = float(input('Digite o valor em R$: '))\n",
        "cotacao = float(input('Digite o valor da cotação em R$: '))\n",
        "\n",
        "dolar = real / cotacao\n",
        "\n",
        "print(f'R$:{real} em dolár é: {dolar}')"
      ],
      "metadata": {
        "id": "0ey_sdJrNzkY"
      },
      "execution_count": null,
      "outputs": []
    },
    {
      "cell_type": "code",
      "source": [
        "# Exercício 5.19\n",
        "\n",
        "dep = float(input('DIGITE O VALOR A SER DEPOSITADO:\\n'))\n",
        "juros = (dep * 0.007)\n",
        "\n",
        "print(f'O valor que você depositou {dep} com o juros de 0,7% gerou de lucro foi R$:{juros:.2f} ')"
      ],
      "metadata": {
        "id": "WRN84Dn1N1xi"
      },
      "execution_count": null,
      "outputs": []
    },
    {
      "cell_type": "code",
      "source": [
        "# Exercicio 5.20\n",
        "\n",
        "print('A loja mamão com açúcar parcela todas as suas compras sem juros, aproveite.\\n')\n",
        "\n",
        "valor = float(input('Informe o valor da sua compra:\\n'))\n",
        "prestacao = valor/5\n",
        "\n",
        "print(f'O valor da sua compra de R$:{valor:.2f} foi parcelado em 5 vezes de R$:{prestacao:.2f}.')"
      ],
      "metadata": {
        "id": "nDJ43O6IN35t"
      },
      "execution_count": null,
      "outputs": []
    },
    {
      "cell_type": "code",
      "source": [
        "# Exercicio 5.21\n",
        "\n",
        "preco = float(input('Informe o preço do produto:\\nR$:'))\n",
        "acresc = float(input('Informe o percentual de acréscimo:\\n%:'))\n",
        "\n",
        "resul = preco + (preco * acresc/100)\n",
        "\n",
        "print(f'O custo fixo do carro R$:{preco:.2f} junto com o acréscimo de {acresc}% é no total R$:{resul:.2f}')"
      ],
      "metadata": {
        "id": "_b63OrajN6f_"
      },
      "execution_count": null,
      "outputs": []
    },
    {
      "cell_type": "code",
      "source": [
        "# Exercicio 5.22\n",
        "# soma do custo de fábrica com a porcentagem do distribuidor e dos impostos aplicados\n",
        "\n",
        "cust_fab = float(input('Informe o custo da fábrica\\nR$:'))\n",
        "\n",
        "imposto = cust_fab + (cust_fab * 45/100)\n",
        "porcent_forn = imposto + (imposto * 28/100)\n",
        "\n",
        "print (f'O custo de um carro novo ao consumidor é de R$:{porcent_forn:.2f}')"
      ],
      "metadata": {
        "id": "ZEoZBB5pN8ZK"
      },
      "execution_count": null,
      "outputs": []
    }
  ]
}