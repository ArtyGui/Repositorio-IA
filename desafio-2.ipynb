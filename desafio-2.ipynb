{
  "nbformat": 4,
  "nbformat_minor": 0,
  "metadata": {
    "colab": {
      "name": "Untitled1.ipynb",
      "provenance": [],
      "authorship_tag": "ABX9TyOavXOZ0Hsi8z6qrqj3x3UP",
      "include_colab_link": true
    },
    "kernelspec": {
      "name": "python3",
      "display_name": "Python 3"
    },
    "language_info": {
      "name": "python"
    }
  },
  "cells": [
    {
      "cell_type": "markdown",
      "metadata": {
        "id": "view-in-github",
        "colab_type": "text"
      },
      "source": [
        "<a href=\"https://colab.research.google.com/github/ArtyGui/Repositorio-IA/blob/main/desafio-2.ipynb\" target=\"_parent\"><img src=\"https://colab.research.google.com/assets/colab-badge.svg\" alt=\"Open In Colab\"/></a>"
      ]
    },
    {
      "cell_type": "code",
      "execution_count": 27,
      "metadata": {
        "colab": {
          "base_uri": "https://localhost:8080/"
        },
        "id": "NlH73XyvvOIr",
        "outputId": "040a67aa-3152-4896-8f16-2db3af90a59f"
      },
      "outputs": [
        {
          "output_type": "stream",
          "name": "stdout",
          "text": [
            "Digite o valor das vendas da Coca-Cola:\n",
            " R$:150\n",
            "Digite o valor das vendas da Pepsi:\n",
            " R$:130\n",
            "Digite o preço que a Coca-Cola é vendida:\n",
            " R$:1.5\n",
            "Digite o preço que a Pepsi é vendida:\n",
            " R$:1.5\n",
            "Informe o custo da loja:\n",
            " R$:2500\n",
            "O Faturamento da Pepsi foi de R$:195.00 logo foi Horrível\n",
            "\n",
            "O Faturamento da Coca-Cola foi de R$:225.00 logo foi Horrível\n",
            "\n",
            "O lucro da loja foi negativo\n",
            "\n",
            "A porcentagem da Loja foi de -4.95%\n"
          ]
        }
      ],
      "source": [
        "# Valores do ultimo ano\n",
        "# Loja Hashtag&Drink\n",
        "\n",
        "venda_coca = float(input('Digite o valor das vendas da Coca-Cola:\\n R$:'))\n",
        "venda_pepsi = float(input('Digite o valor das vendas da Pepsi:\\n R$:'))\n",
        "\n",
        "preco_coca = float(input('Digite o preço que a Coca-Cola é vendida:\\n R$:'))\n",
        "preco_pepsi = float(input('Digite o preço que a Pepsi é vendida:\\n R$:'))\n",
        "\n",
        "custo_loja = float(input('Informe o custo da loja:\\n R$:'))\n",
        "\n",
        "faturamento_pepsi = venda_pepsi * preco_pepsi\n",
        "faturamento_coca = venda_coca * preco_coca\n",
        "faturamento_total = faturamento_pepsi + faturamento_coca\n",
        "\n",
        "lucro_loja = (faturamento_pepsi + faturamento_coca ) - custo_loja\n",
        "margem = lucro_loja / faturamento_total\n",
        "\n",
        "if (faturamento_pepsi < 2500) : \n",
        "  print(f'O Faturamento da Pepsi foi de R$:{faturamento_pepsi:.2f} logo foi Horrível\\n')\n",
        "else:\n",
        "  print(f'O Faturamento da Pepsi foi de R$:{faturamento_pepsi:.2f} logo foi Ótimo\\n')\n",
        "\n",
        "if (faturamento_coca < 2500) : \n",
        "  print(f'O Faturamento da Coca-Cola foi de R$:{faturamento_coca:.2f} logo foi Horrível\\n')\n",
        "else:\n",
        "  print(f'O Faturamento da Coca-Cola foi de R$:{faturamento_coca:.2f} logo foi Ótimo\\n')\n",
        "\n",
        "if (lucro_loja < custo_loja ) :\n",
        "  print('O lucro da loja foi negativo\\n')\n",
        "else:\n",
        "  print('O lucro da loja foi positivo\\n')\n",
        "\n",
        "print(f'A porcentagem da Loja foi de {margem:.2f}%')"
      ]
    },
    {
      "cell_type": "code",
      "source": [
        "# Empresa Hashtag&Drink\n"
      ],
      "metadata": {
        "id": "EFYYCeb2K7mh"
      },
      "execution_count": null,
      "outputs": []
    }
  ]
}