{
  "nbformat": 4,
  "nbformat_minor": 0,
  "metadata": {
    "colab": {
      "name": "Untitled5.ipynb",
      "provenance": [],
      "authorship_tag": "ABX9TyMienbs66rGxdorPB9g+N9u",
      "include_colab_link": true
    },
    "kernelspec": {
      "name": "python3",
      "display_name": "Python 3"
    },
    "language_info": {
      "name": "python"
    }
  },
  "cells": [
    {
      "cell_type": "markdown",
      "metadata": {
        "id": "view-in-github",
        "colab_type": "text"
      },
      "source": [
        "<a href=\"https://colab.research.google.com/github/ArtyGui/Repositorio-IA/blob/main/Untitled5.ipynb\" target=\"_parent\"><img src=\"https://colab.research.google.com/assets/colab-badge.svg\" alt=\"Open In Colab\"/></a>"
      ]
    },
    {
      "cell_type": "code",
      "execution_count": 23,
      "metadata": {
        "colab": {
          "base_uri": "https://localhost:8080/",
          "height": 130
        },
        "id": "ptw3RbiEIs-J",
        "outputId": "b222a3ed-287a-41a3-e973-0e4e7460f670"
      },
      "outputs": [
        {
          "output_type": "error",
          "ename": "SyntaxError",
          "evalue": "ignored",
          "traceback": [
            "\u001b[0;36m  File \u001b[0;32m\"<ipython-input-23-8aa3120f7046>\"\u001b[0;36m, line \u001b[0;32m6\u001b[0m\n\u001b[0;31m    bonus1 = float(input('Informe o bônus caso o usuário bata o dobro da meta do ano11010\u001b[0m\n\u001b[0m                                                                                         ^\u001b[0m\n\u001b[0;31mSyntaxError\u001b[0m\u001b[0;31m:\u001b[0m EOL while scanning string literal\n"
          ]
        }
      ],
      "source": [
        "''''\n",
        "O PROGRAMA IRÁ  PEDIR A META ANUAL E VER SE A SOMA DE TODAS AS VENDAS NO ANO VAI SER MAIOR QUE A META \n",
        "'''''\n",
        "ano = int(input('Informe o ano atual: '))\n",
        "metaAno = float(input(f'Digite a meta para o ano de {ano}: '))\n",
        "bonus1 = float(input('Informe o bônus caso o usuário bata o dobro da meta do ano: '))\n",
        "bonus2 = float(input('Informe o bônus caso o usuário bata a meta do ano: '))\n",
        "porcent1 = bonus1/100\n",
        "porcent2 = bonus2/100\n",
        "\n",
        "qtd_venda1 = float(input('Digite a quantidade de vendas no mês de Janeiro: \\n'))\n",
        "qtd_venda2 = float(input('Digite a quantidade de vendas no mês de Fevereiro: \\n'))\n",
        "qtd_venda3 = float(input('Digite a quantidade de vendas no mês de Março: \\n'))\n",
        "qtd_venda4 = float(input('Digite a quantidade de vendas no mês de Abril: \\n'))\n",
        "qtd_venda5 = float(input('Digite a quantidade de vendas no mês de Maio: \\n'))\n",
        "qtd_venda6 = float(input('Digite a quantidade de vendas no mês de Junho: \\n'))\n",
        "qtd_venda7 = float(input('Digite a quantidade de vendas no mês de Julho: \\n'))\n",
        "qtd_venda8 = float(input('Digite a quantidade de vendas no mês de Agosto: \\n'))\n",
        "qtd_venda9 = float(input('Digite a quantidade de vendas no mês de Setembro: \\n'))\n",
        "qtd_venda10 = float(input('Digite a quantidade de vendas no mês de Outubro: \\n'))\n",
        "qtd_venda11 = float(input('Digite a quantidade de vendas no mês de Novembro: \\n'))\n",
        "qtd_venda12 = float(input('Digite a quantidade de vendas no mês de Dezembro: \\n'))\n",
        "\n",
        "somaQuant = (qtd_venda1 + qtd_venda2 + qtd_venda3 + qtd_venda4 + qtd_venda5 + qtd_venda6 + qtd_venda7 + qtd_venda8 + qtd_venda9 + qtd_venda10 + qtd_venda11 + qtd_venda12)\n",
        "if somaQuant < metaAno : \n",
        "  print(f'A meta anual foi de {somaQuant} logo não alcançamos a meta anual')\n",
        "\n",
        "elif somaQuant > (metaAno * 2) :\n",
        "  print(f'Parabéns você alcançou o dobro da meta, logo receberá um bônus de {porcent1}%')\n",
        "else:\n",
        "  print(f'Parabéns, a meta anual para o ano de {ano} foi alcançada logo você receberá 3% de bônus')"
      ]
    }
  ]
}
