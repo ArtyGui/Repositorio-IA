{
  "nbformat": 4,
  "nbformat_minor": 0,
  "metadata": {
    "colab": {
      "name": "Exercicios-5.13-5.22",
      "provenance": [],
      "collapsed_sections": [],
      "include_colab_link": true
    },
    "kernelspec": {
      "name": "python3",
      "display_name": "Python 3"
    },
    "language_info": {
      "name": "python"
    }
  },
  "cells": [
    {
      "cell_type": "markdown",
      "metadata": {
        "id": "view-in-github",
        "colab_type": "text"
      },
      "source": [
        "<a href=\"https://colab.research.google.com/github/ArtyGui/Repositorio-IA/blob/main/Exercicios_5_13_5_22.ipynb\" target=\"_parent\"><img src=\"https://colab.research.google.com/assets/colab-badge.svg\" alt=\"Open In Colab\"/></a>"
      ]
    },
    {
      "cell_type": "code",
      "execution_count": null,
      "metadata": {
        "colab": {
          "base_uri": "https://localhost:8080/"
        },
        "id": "-BOUtdcyatiH",
        "outputId": "e5bad3ef-cb03-4e31-f404-c4c5251175a1"
      },
      "outputs": [
        {
          "output_type": "stream",
          "name": "stdout",
          "text": [
            "Informe a distância total percorrida:\n",
            "10\n",
            "Informe o consumo de combustível total usado:\n",
            "5\n",
            "O consumo médio do automóvel foi: 2.0\n"
          ]
        }
      ],
      "source": [
        "#Exercicio-5.13\n",
        "# O programa irá determinar o consumo médio de um automóvel sendo fornecida a distância total percorrida pelo automóvel e o total de combustível gasto.\n",
        "\n",
        "dist = float(input('Informe a distância total percorrida:\\n'))   # Distância percorrida\n",
        "comb = float(input('Informe o consumo de combustível total usado:\\n'))\n",
        "\n",
        "consumo = dist / comb\n",
        "\n",
        "print(f'O consumo médio do automóvel foi: {consumo}km/L')"
      ]
    },
    {
      "cell_type": "code",
      "source": [
        "#Exercicio-5.14\n",
        "# O programa irá ler o nome do vendedor e seu salário fixo junto com o total\n",
        "# de vendas efetuadas no mês e com o acrescimo de 15%\n",
        "\n",
        "nome = str(input('Informe seu nome:\\n'))\n",
        "salario = float(input('Informe o seu salário fixo:\\n'))\n",
        "vendas = float(input('Informe o total de vendas no mês:\\n'))\n",
        "\n",
        "salariof = salario + (vendas * 15/100)\n",
        "\n",
        "print(f'O seu nome é: {nome}, o seu salário fixo é {salario} reais, junto com 15% de comissão de suas vendas, seu salário no final do mês é de: {salariof} reais ')"
      ],
      "metadata": {
        "colab": {
          "base_uri": "https://localhost:8080/"
        },
        "id": "bClVfxweekAI",
        "outputId": "1ff5fc3c-7615-4db4-b09e-c97cee57de1f"
      },
      "execution_count": null,
      "outputs": [
        {
          "output_type": "stream",
          "name": "stdout",
          "text": [
            "Informe seu nome:\n",
            "Artur\n",
            "Informe o seu salário fixo:\n",
            "550\n",
            "Informe o total de vendas no mês:\n",
            "650\n",
            "O seu nome é: Artur, o seu salário fixo é 550.0 reais, junto com 15% de comissão de suas vendas, seu salário no final do mês é de: 647.5 reais \n"
          ]
        }
      ]
    },
    {
      "cell_type": "code",
      "source": [
        "#Exercício 5.15\n",
        "# O programa irá ler o nome do aluno e receberá 3 notas fazendo com que saia a média\n",
        "\n",
        "nome = str(input('Informe seu nome:\\n'))\n",
        "nota1 = float(input('Informe a primeira nota da prova:\\n'))\n",
        "nota2 = float(input('Informe a segunda nota da prova:\\n'))\n",
        "nota3 = float(input('Informe a terceira nota da prova:\\n'))\n",
        "\n",
        "media = (nota1 + nota2 + nota3)/3\n",
        "\n",
        "print(f'O aluno {nome} está com a média: {media:.2f}')\n",
        "\n"
      ],
      "metadata": {
        "colab": {
          "base_uri": "https://localhost:8080/"
        },
        "id": "Bfv-eVNmkyTw",
        "outputId": "fa790a59-efdd-4806-da5b-7f938bc4eb5c"
      },
      "execution_count": null,
      "outputs": [
        {
          "output_type": "stream",
          "name": "stdout",
          "text": [
            "Informe seu nome:\n",
            "artur\n",
            "Informe a primeira nota da prova:\n",
            "10\n",
            "Informe a segunda nota da prova:\n",
            "7\n",
            "Informe a terceira nota da prova:\n",
            "5\n",
            "O aluno artur está com a média: 7.33\n"
          ]
        }
      ]
    },
    {
      "cell_type": "code",
      "source": [
        "#Exercício 5.16\n",
        "\n",
        "a = float(input('Informe um número para A:\\n'))\n",
        "b = float(input('Informe um número para B:\\n'))\n",
        "\n",
        "print(f'O valor de A é {a}. O valor de B é {b}')\n",
        "\n",
        "temp = a\n",
        "a = b\n",
        "b = temp\n",
        "\n",
        "print(f'O valor de A agora é {a}. O valor de B agora é {b}.')"
      ],
      "metadata": {
        "colab": {
          "base_uri": "https://localhost:8080/"
        },
        "id": "vP6V3IcXvaWg",
        "outputId": "ad6b516b-cc39-4eaa-ad1f-01ed835331a9"
      },
      "execution_count": 19,
      "outputs": [
        {
          "output_type": "stream",
          "name": "stdout",
          "text": [
            "Informe um número para A:\n",
            "15\n",
            "Informe um número para B:\n",
            "66\n",
            "O valor de A é 15.0. O valor de B é 66.0\n",
            "O valor de A agora é 66.0. O valor de B agora é 15.0.\n"
          ]
        }
      ]
    },
    {
      "cell_type": "code",
      "source": [
        "# Exercício 5.17\n",
        "\n",
        "c = float(input('Digite a temperatura em Celsius:\\n'))\n",
        "f = F=(9*c+160) / 5\n",
        "\n",
        "print(f'A temperatura em Celsius {c} agora em Fahrenheit é {f}')"
      ],
      "metadata": {
        "id": "vCwMyECI0zD4",
        "outputId": "a29bfdfa-5ccf-4952-c725-71e6c617d832",
        "colab": {
          "base_uri": "https://localhost:8080/"
        }
      },
      "execution_count": 21,
      "outputs": [
        {
          "output_type": "stream",
          "name": "stdout",
          "text": [
            "Digite a temperatura em Celsius:\n",
            "15\n",
            "A temperatura em Celsius 15.0 agora em Fahrenheit é 59.0\n"
          ]
        }
      ]
    },
    {
      "cell_type": "code",
      "source": [
        "# Exercício 5.18\n",
        "\n",
        "real = float(input('Digite o valor em R$: '))\n",
        "cotacao = float(input('Digite o valor da cotação em R$: '))\n",
        "\n",
        "dolar = real / cotacao\n",
        "\n",
        "print(f'R$:{real} em dolár é: {dolar}')"
      ],
      "metadata": {
        "id": "xPSSrByB1rXN",
        "outputId": "9aa1b9c4-0312-4e62-982c-d88e71df15e6",
        "colab": {
          "base_uri": "https://localhost:8080/"
        }
      },
      "execution_count": 23,
      "outputs": [
        {
          "output_type": "stream",
          "name": "stdout",
          "text": [
            "Digite o valor em R$: 500\n",
            "Digite o valor da cotação em R$: 5\n",
            "R$:500.0 em dolár é: 100.0\n"
          ]
        }
      ]
    },
    {
      "cell_type": "code",
      "source": [
        "# Exercício 5.19\n",
        "\n",
        "dep = float(input('DIGITE O VALOR A SER DEPOSITADO:\\n'))\n",
        "juros = (dep * 0.007)\n",
        "\n",
        "print(f'O valor que você depositou {dep} com o juros de 0,7% gerou de lucro foi R$:{juros:.2f} ')\n"
      ],
      "metadata": {
        "id": "Q28vtqFo3Wal",
        "outputId": "3488fcac-1c1f-4f3c-e231-706abe329104",
        "colab": {
          "base_uri": "https://localhost:8080/"
        }
      },
      "execution_count": 30,
      "outputs": [
        {
          "output_type": "stream",
          "name": "stdout",
          "text": [
            "DIGITE O VALOR A SER DEPOSITADO:\n",
            "500\n",
            "O valor que você depositou 500.0 com o juros de 0,7% gerou de lucro foi R$:3.50 \n"
          ]
        }
      ]
    },
    {
      "cell_type": "code",
      "source": [
        ""
      ],
      "metadata": {
        "id": "lIW2TDt85IAN"
      },
      "execution_count": null,
      "outputs": []
    }
  ]
}
