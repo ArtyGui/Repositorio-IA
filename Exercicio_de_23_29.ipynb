{
  "nbformat": 4,
  "nbformat_minor": 0,
  "metadata": {
    "colab": {
      "name": "Cópia de Untitled1.ipynb",
      "provenance": [],
      "collapsed_sections": [],
      "authorship_tag": "ABX9TyMhKCo47GwOnExi5+rvRm1+",
      "include_colab_link": true
    },
    "kernelspec": {
      "name": "python3",
      "display_name": "Python 3"
    },
    "language_info": {
      "name": "python"
    }
  },
  "cells": [
    {
      "cell_type": "markdown",
      "metadata": {
        "id": "view-in-github",
        "colab_type": "text"
      },
      "source": [
        "<a href=\"https://colab.research.google.com/github/ArtyGui/Repositorio-IA/blob/main/Exercicio_de_23_29.ipynb\" target=\"_parent\"><img src=\"https://colab.research.google.com/assets/colab-badge.svg\" alt=\"Open In Colab\"/></a>"
      ]
    },
    {
      "cell_type": "code",
      "execution_count": null,
      "metadata": {
        "colab": {
          "base_uri": "https://localhost:8080/"
        },
        "id": "nyQmL9rvOrtq",
        "outputId": "8857a4f7-6186-4f5d-afee-c9d877a5cbee"
      },
      "outputs": [
        {
          "output_type": "stream",
          "name": "stdout",
          "text": [
            "5\n"
          ]
        }
      ],
      "source": [
        "# Exercício 5.23\n",
        "\n",
        "a = 2       #(1)\n",
        "b = 3       #(2)\n",
        "print (a + b)"
      ]
    },
    {
      "cell_type": "code",
      "source": [
        "# Exercicio 5.24\n",
        "\n",
        "nome = str(input('Informe o seu nome:\\n'))\n",
        "idade = int(input('Informe a sua idade:\\n'))\n",
        "\n",
        "if idade < 18 : \n",
        "    print (f'{nome} você é menor de idade')\n",
        "else :\n",
        "    print(f'{nome} você já é maior de idade')"
      ],
      "metadata": {
        "colab": {
          "base_uri": "https://localhost:8080/"
        },
        "id": "PYtrAcsuSLms",
        "outputId": "80ec7980-ef61-4fed-cb6e-02b27a49884f"
      },
      "execution_count": null,
      "outputs": [
        {
          "output_type": "stream",
          "name": "stdout",
          "text": [
            "Informe o seu nome:\n",
            "atrtur\n",
            "Informe a sua idade:\n",
            "19\n",
            "atrtur você já é maior de idade\n"
          ]
        }
      ]
    },
    {
      "cell_type": "code",
      "source": [
        "# Exercicio 5.25\n",
        "\n",
        "nota_1 = float(input('Digite a primeira nota do aluno: '))\n",
        "nota_2 = float(input('Digite a segunda nota do aluno: '))\n",
        "nota_3 = float(input('Digite a terceira nota do aluno: '))\n",
        "nota_4 = float(input('Digite a quarta nota do aluno: '))\n",
        "\n",
        "media = (nota_1 + nota_2 + nota_3 + nota_4)/4\n",
        "\n",
        "if media >= 8 :\n",
        "  print(f'O aluno está aprovado')\n",
        "else : \n",
        "  print(f'O aluno está reprovado, necessita estudar mais')"
      ],
      "metadata": {
        "colab": {
          "base_uri": "https://localhost:8080/"
        },
        "id": "3IXuIfPHT42w",
        "outputId": "db0fb85a-f7bd-4d4f-c407-bf45dc8fe15d"
      },
      "execution_count": null,
      "outputs": [
        {
          "output_type": "stream",
          "name": "stdout",
          "text": [
            "Digite a primeira nota do aluno: 10\n",
            "Digite a segunda nota do aluno: 7\n",
            "Digite a terceira nota do aluno: 7\n",
            "Digite a quarta nota do aluno: 7\n",
            "O aluno está reprovado, necessita estudar mais\n"
          ]
        }
      ]
    },
    {
      "cell_type": "code",
      "source": [
        "# Exercicio 5.26\n",
        "\n",
        "dist_perc = float(input('Informe a distância percorrida:\\nKM:'))\n",
        "combustivel = float(input('Informe a quantidade em de combustível consumido em litros:\\nL:'))\n",
        "consumo = dist_perc / combustivel\n",
        "\n",
        "if consumo >= 18:\n",
        "  print(f'O carro tem um consumo de {consumo}L é econômico')\n",
        "else: \n",
        "  print(f'O carro tem um consumo de {consumo}L e não é econômico')"
      ],
      "metadata": {
        "colab": {
          "base_uri": "https://localhost:8080/"
        },
        "id": "97ZlghTGWTWA",
        "outputId": "82a832bb-e089-432c-a981-55a1430d4bdf"
      },
      "execution_count": null,
      "outputs": [
        {
          "output_type": "stream",
          "name": "stdout",
          "text": [
            "Informe a distância percorrida:\n",
            "KM:500\n",
            "Informe a quantidade em de combustível consumido em litros:\n",
            "L:500\n",
            "O carro tem um consumo de 1.0L e não é econômico\n"
          ]
        }
      ]
    },
    {
      "cell_type": "code",
      "source": [
        "# Exercício 5.28\n",
        "\n",
        "salario = float(input('Informe o seu salário:\\nR$:'))\n",
        "\n",
        "if salario <= 1200:\n",
        "  print('Você não deve pagar imposto')\n",
        "else:\n",
        "  print('Você recebe acima de um salário mínimo, então deve pagar imposto')"
      ],
      "metadata": {
        "colab": {
          "base_uri": "https://localhost:8080/"
        },
        "id": "qFXfeAnkYihv",
        "outputId": "ce747d61-fd54-4d15-829f-d5e8c433fed8"
      },
      "execution_count": null,
      "outputs": [
        {
          "output_type": "stream",
          "name": "stdout",
          "text": [
            "Informe o seu salário:\n",
            "R$:1450\n",
            "Você recebe acima de um salário mínimo, então deve pagar imposto\n"
          ]
        }
      ]
    },
    {
      "cell_type": "code",
      "source": [
        "# Exercício 5.29\n",
        "\n",
        "a = [1, 10, 5]\n",
        "b = [2, 3, 1]\n",
        "c = ['true','false', 'true']\n",
        "d = ['false','false', 'true']\n",
        "\n",
        "print('A expressão : A > B and C or D \\n')\n",
        "\n",
        "print('Valores de A = 1, 10, 5 \\n')\n",
        "print('Valores de B = 2, 3, 1 \\n')\n",
        "print('Valores de C = True, False, True \\n')\n",
        "print('Valores de D = False, False, True \\n')\n",
        "\n",
        "print(f'O resultado da primeira linha é:\\n {a[0]} > {b[0]} and {c[0]} or {d[0]}')\n",
        "print(a[0] > b[0] and c[0] or d[0],'\\n')\n",
        "\n",
        "print(f'O resultado da segunda linha é:\\n {a[1]} > {b[1]} and {c[1]} or {d[1]}')\n",
        "print(a[1] > b[1] and c[1] or d[1],'\\n')\n",
        "\n",
        "print(f'O resultado da terceira linha é:\\n {a[2]} > {b[2]} and {c[2]} or {d[2]}')\n",
        "print(a[2] > b[2] and c[2] or d[2],'\\n')\n"
      ],
      "metadata": {
        "id": "iQos5bYdZjDi",
        "colab": {
          "base_uri": "https://localhost:8080/"
        },
        "outputId": "81dddaee-501c-4ab5-ed5e-bae16325d861"
      },
      "execution_count": 18,
      "outputs": [
        {
          "output_type": "stream",
          "name": "stdout",
          "text": [
            "A expressão : A > B and C or D \n",
            "\n",
            "Valores de A = 1, 10, 5 \n",
            "\n",
            "Valores de B = 2, 3, 1 \n",
            "\n",
            "Valores de C = True, False, True \n",
            "\n",
            "Valores de D = False, False, True \n",
            "\n",
            "O resultado da primeira linha é:\n",
            " 1 > 2 and true or false\n",
            "false \n",
            "\n",
            "O resultado da segunda linha é:\n",
            " 10 > 3 and false or false\n",
            "false \n",
            "\n",
            "O resultado da terceira linha é:\n",
            " 5 > 1 and true or true\n",
            "true \n",
            "\n"
          ]
        }
      ]
    }
  ]
}